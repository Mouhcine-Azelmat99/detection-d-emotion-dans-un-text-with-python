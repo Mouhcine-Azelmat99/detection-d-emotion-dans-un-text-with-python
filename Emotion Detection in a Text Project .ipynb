{
 "cells": [
  {
   "cell_type": "markdown",
   "id": "235f601a",
   "metadata": {},
   "source": [
    "+ EMOTIONS DETECTION IN A TEXT IN PYTHON\n",
    "  - Importation of libraires\n",
    "  "
   ]
  },
  {
   "cell_type": "code",
   "execution_count": 1,
   "id": "65c40a61",
   "metadata": {},
   "outputs": [],
   "source": [
    "import pandas as pd\n",
    "import numpy as np"
   ]
  },
  {
   "cell_type": "code",
   "execution_count": 2,
   "id": "81af941e",
   "metadata": {},
   "outputs": [],
   "source": [
    "# for showing graphes\n",
    "import matplotlib.pyplot as plt\n",
    "import seaborn as sns"
   ]
  },
  {
   "cell_type": "code",
   "execution_count": 3,
   "id": "72a222a8",
   "metadata": {},
   "outputs": [],
   "source": [
    "## text Cleaning\n",
    "import neattext.functions as nfx"
   ]
  },
  {
   "cell_type": "code",
   "execution_count": 4,
   "id": "63d2c5ef",
   "metadata": {},
   "outputs": [],
   "source": [
    "## load data\n",
    "df1=pd.read_csv(\"Emotion_dataset.csv\")\n",
    "df=df1.copy()"
   ]
  },
  {
   "cell_type": "code",
   "execution_count": 5,
   "id": "957e0410",
   "metadata": {},
   "outputs": [
    {
     "data": {
      "text/html": [
       "<div>\n",
       "<style scoped>\n",
       "    .dataframe tbody tr th:only-of-type {\n",
       "        vertical-align: middle;\n",
       "    }\n",
       "\n",
       "    .dataframe tbody tr th {\n",
       "        vertical-align: top;\n",
       "    }\n",
       "\n",
       "    .dataframe thead th {\n",
       "        text-align: right;\n",
       "    }\n",
       "</style>\n",
       "<table border=\"1\" class=\"dataframe\">\n",
       "  <thead>\n",
       "    <tr style=\"text-align: right;\">\n",
       "      <th></th>\n",
       "      <th>Emotion</th>\n",
       "      <th>Text</th>\n",
       "    </tr>\n",
       "  </thead>\n",
       "  <tbody>\n",
       "    <tr>\n",
       "      <th>0</th>\n",
       "      <td>neutral</td>\n",
       "      <td>Why ?</td>\n",
       "    </tr>\n",
       "    <tr>\n",
       "      <th>1</th>\n",
       "      <td>joy</td>\n",
       "      <td>Sage Act upgrade on my to do list for tommorow.</td>\n",
       "    </tr>\n",
       "    <tr>\n",
       "      <th>2</th>\n",
       "      <td>sadness</td>\n",
       "      <td>ON THE WAY TO MY HOMEGIRL BABY FUNERAL!!! MAN ...</td>\n",
       "    </tr>\n",
       "    <tr>\n",
       "      <th>3</th>\n",
       "      <td>joy</td>\n",
       "      <td>Such an eye ! The true hazel eye-and so brill...</td>\n",
       "    </tr>\n",
       "    <tr>\n",
       "      <th>4</th>\n",
       "      <td>joy</td>\n",
       "      <td>@Iluvmiasantos ugh babe.. hugggzzz for u .!  b...</td>\n",
       "    </tr>\n",
       "  </tbody>\n",
       "</table>\n",
       "</div>"
      ],
      "text/plain": [
       "   Emotion                                               Text\n",
       "0  neutral                                             Why ? \n",
       "1      joy    Sage Act upgrade on my to do list for tommorow.\n",
       "2  sadness  ON THE WAY TO MY HOMEGIRL BABY FUNERAL!!! MAN ...\n",
       "3      joy   Such an eye ! The true hazel eye-and so brill...\n",
       "4      joy  @Iluvmiasantos ugh babe.. hugggzzz for u .!  b..."
      ]
     },
     "execution_count": 5,
     "metadata": {},
     "output_type": "execute_result"
    }
   ],
   "source": [
    "## preview \n",
    "df.head()"
   ]
  },
  {
   "cell_type": "code",
   "execution_count": 6,
   "id": "f0374436",
   "metadata": {},
   "outputs": [
    {
     "data": {
      "text/plain": [
       "(34792, 2)"
      ]
     },
     "execution_count": 6,
     "metadata": {},
     "output_type": "execute_result"
    }
   ],
   "source": [
    "## shape\n",
    "df.shape"
   ]
  },
  {
   "cell_type": "code",
   "execution_count": 7,
   "id": "a8adf122",
   "metadata": {},
   "outputs": [
    {
     "data": {
      "text/plain": [
       "Emotion    object\n",
       "Text       object\n",
       "dtype: object"
      ]
     },
     "execution_count": 7,
     "metadata": {},
     "output_type": "execute_result"
    }
   ],
   "source": [
    "## type of data\n",
    "df.dtypes\n"
   ]
  },
  {
   "cell_type": "code",
   "execution_count": 8,
   "id": "c21b94eb",
   "metadata": {},
   "outputs": [
    {
     "data": {
      "text/plain": [
       "Emotion    0\n",
       "Text       0\n",
       "dtype: int64"
      ]
     },
     "execution_count": 8,
     "metadata": {},
     "output_type": "execute_result"
    }
   ],
   "source": [
    "## verify is there any NULL values \n",
    "df.isnull().sum()"
   ]
  },
  {
   "cell_type": "code",
   "execution_count": 9,
   "id": "78ce17c2",
   "metadata": {},
   "outputs": [
    {
     "data": {
      "text/plain": [
       "joy         11045\n",
       "sadness      6722\n",
       "fear         5410\n",
       "anger        4297\n",
       "surprise     4062\n",
       "neutral      2254\n",
       "disgust       856\n",
       "shame         146\n",
       "Name: Emotion, dtype: int64"
      ]
     },
     "execution_count": 9,
     "metadata": {},
     "output_type": "execute_result"
    }
   ],
   "source": [
    "## values count of Emotions\n",
    "df[\"Emotion\"].value_counts()"
   ]
  },
  {
   "cell_type": "code",
   "execution_count": 10,
   "id": "9b3c9295",
   "metadata": {},
   "outputs": [
    {
     "data": {
      "text/plain": [
       "<AxesSubplot:xlabel='Emotion', ylabel='count'>"
      ]
     },
     "execution_count": 10,
     "metadata": {},
     "output_type": "execute_result"
    },
    {
     "data": {
      "image/png": "[encoded data removed]",
      "text/plain": [
       "<Figure size 432x288 with 1 Axes>"
      ]
     },
     "metadata": {
      "needs_background": "light"
     },
     "output_type": "display_data"
    }
   ],
   "source": [
    "# showing every emotion and it's occurence in the column 'Emotion'\n",
    "sns.countplot(x='Emotion',data=df)"
   ]
  },
  {
   "cell_type": "markdown",
   "id": "a377dd0b",
   "metadata": {},
   "source": [
    "## Exploration\n",
    "+ Text Cleaning\n",
    "+ Sentiment Analysis\n",
    "+ keyword Extraction\n",
    "    - Keywords for each emotion\n",
    "    \n",
    "    "
   ]
  },
  {
   "cell_type": "code",
   "execution_count": 11,
   "id": "dbb3163b",
   "metadata": {},
   "outputs": [],
   "source": [
    "#installation of textblob (Python library for processing text data)\n",
    "#pip install -U textblob"
   ]
  },
  {
   "cell_type": "code",
   "execution_count": 12,
   "id": "b471462c",
   "metadata": {},
   "outputs": [],
   "source": [
    "# sentiment analysis\n",
    "from textblob import TextBlob"
   ]
  },
  {
   "cell_type": "code",
   "execution_count": 13,
   "id": "11a2cdcf",
   "metadata": {},
   "outputs": [],
   "source": [
    "## a function to return sentiment state in a text usign textblob\n",
    "def get_sentiment(text):\n",
    "    blob = TextBlob(text)\n",
    "    sentiment=blob.sentiment.polarity\n",
    "    if sentiment > 0:\n",
    "        result='Positive'\n",
    "    elif sentiment < 0:\n",
    "        result='Negative'\n",
    "    else:\n",
    "        result='Neutral'\n",
    "    return result\n",
    "        "
   ]
  },
  {
   "cell_type": "code",
   "execution_count": 14,
   "id": "3d737552",
   "metadata": {},
   "outputs": [
    {
     "data": {
      "text/plain": [
       "'Negative'"
      ]
     },
     "execution_count": 14,
     "metadata": {},
     "output_type": "execute_result"
    }
   ],
   "source": [
    "##test the function\n",
    "get_sentiment('I hate you ')"
   ]
  },
  {
   "cell_type": "code",
   "execution_count": 15,
   "id": "56fb67b5",
   "metadata": {},
   "outputs": [],
   "source": [
    "## add a column to the dataframe in it we apply the function get_sentiment\n",
    "df[\"Sentiment\"]=df[\"Text\"].apply(get_sentiment)"
   ]
  },
  {
   "cell_type": "code",
   "execution_count": 16,
   "id": "031ae65d",
   "metadata": {},
   "outputs": [
    {
     "data": {
      "text/html": [
       "<div>\n",
       "<style scoped>\n",
       "    .dataframe tbody tr th:only-of-type {\n",
       "        vertical-align: middle;\n",
       "    }\n",
       "\n",
       "    .dataframe tbody tr th {\n",
       "        vertical-align: top;\n",
       "    }\n",
       "\n",
       "    .dataframe thead th {\n",
       "        text-align: right;\n",
       "    }\n",
       "</style>\n",
       "<table border=\"1\" class=\"dataframe\">\n",
       "  <thead>\n",
       "    <tr style=\"text-align: right;\">\n",
       "      <th></th>\n",
       "      <th>Emotion</th>\n",
       "      <th>Text</th>\n",
       "      <th>Sentiment</th>\n",
       "    </tr>\n",
       "  </thead>\n",
       "  <tbody>\n",
       "    <tr>\n",
       "      <th>0</th>\n",
       "      <td>neutral</td>\n",
       "      <td>Why ?</td>\n",
       "      <td>Neutral</td>\n",
       "    </tr>\n",
       "    <tr>\n",
       "      <th>1</th>\n",
       "      <td>joy</td>\n",
       "      <td>Sage Act upgrade on my to do list for tommorow.</td>\n",
       "      <td>Neutral</td>\n",
       "    </tr>\n",
       "    <tr>\n",
       "      <th>2</th>\n",
       "      <td>sadness</td>\n",
       "      <td>ON THE WAY TO MY HOMEGIRL BABY FUNERAL!!! MAN ...</td>\n",
       "      <td>Negative</td>\n",
       "    </tr>\n",
       "    <tr>\n",
       "      <th>3</th>\n",
       "      <td>joy</td>\n",
       "      <td>Such an eye ! The true hazel eye-and so brill...</td>\n",
       "      <td>Positive</td>\n",
       "    </tr>\n",
       "    <tr>\n",
       "      <th>4</th>\n",
       "      <td>joy</td>\n",
       "      <td>@Iluvmiasantos ugh babe.. hugggzzz for u .!  b...</td>\n",
       "      <td>Neutral</td>\n",
       "    </tr>\n",
       "  </tbody>\n",
       "</table>\n",
       "</div>"
      ],
      "text/plain": [
       "   Emotion                                               Text Sentiment\n",
       "0  neutral                                             Why ?    Neutral\n",
       "1      joy    Sage Act upgrade on my to do list for tommorow.   Neutral\n",
       "2  sadness  ON THE WAY TO MY HOMEGIRL BABY FUNERAL!!! MAN ...  Negative\n",
       "3      joy   Such an eye ! The true hazel eye-and so brill...  Positive\n",
       "4      joy  @Iluvmiasantos ugh babe.. hugggzzz for u .!  b...   Neutral"
      ]
     },
     "execution_count": 16,
     "metadata": {},
     "output_type": "execute_result"
    }
   ],
   "source": [
    "## verify that the column Sentiment is added successfully\n",
    "df.head()"
   ]
  },
  {
   "cell_type": "code",
   "execution_count": 17,
   "id": "f6c8b991",
   "metadata": {},
   "outputs": [
    {
     "data": {
      "text/plain": [
       "Emotion   Sentiment\n",
       "anger     Negative     1787\n",
       "          Neutral      1386\n",
       "          Positive     1124\n",
       "disgust   Negative      324\n",
       "          Neutral       251\n",
       "          Positive      281\n",
       "fear      Negative     1532\n",
       "          Neutral      1846\n",
       "          Positive     2032\n",
       "joy       Negative     1682\n",
       "          Neutral      3649\n",
       "          Positive     5714\n",
       "neutral   Negative      178\n",
       "          Neutral      1523\n",
       "          Positive      553\n",
       "sadness   Negative     2629\n",
       "          Neutral      2128\n",
       "          Positive     1965\n",
       "shame     Negative       46\n",
       "          Neutral        50\n",
       "          Positive       50\n",
       "surprise  Negative      623\n",
       "          Neutral      1545\n",
       "          Positive     1894\n",
       "dtype: int64"
      ]
     },
     "execution_count": 17,
     "metadata": {},
     "output_type": "execute_result"
    }
   ],
   "source": [
    "## every emotion and the size of the sentiment corresponding to it\n",
    "df.groupby(['Emotion','Sentiment']).size()\n"
   ]
  },
  {
   "cell_type": "code",
   "execution_count": 18,
   "id": "3a5f4631",
   "metadata": {},
   "outputs": [
    {
     "data": {
      "text/plain": [
       "<seaborn.axisgrid.FacetGrid at 0x14fd842c640>"
      ]
     },
     "execution_count": 18,
     "metadata": {},
     "output_type": "execute_result"
    },
    {
     "data": {
      "image/png": "[encoded data removed]",
      "text/plain": [
       "<Figure size 728.875x432 with 1 Axes>"
      ]
     },
     "metadata": {
      "needs_background": "light"
     },
     "output_type": "display_data"
    }
   ],
   "source": [
    "## ploting using seaborn\n",
    "sns.factorplot\n",
    "sns.catplot\n",
    "sns.catplot(x='Emotion',hue='Sentiment',data=df,kind='count',height=6,aspect=1.5)"
   ]
  },
  {
   "cell_type": "markdown",
   "id": "2ef6dd12",
   "metadata": {},
   "source": [
    "## text cleaning\n",
    "+ remove noise\n",
    "    - stopwords\n",
    "    - special characters\n",
    "    - punctuations\n",
    "    - emojis\n",
    "    \n"
   ]
  },
  {
   "cell_type": "code",
   "execution_count": 19,
   "id": "8b9c30de",
   "metadata": {},
   "outputs": [
    {
     "data": {
      "text/plain": [
       "['BTC_ADDRESS_REGEX',\n",
       " 'CURRENCY_REGEX',\n",
       " 'CURRENCY_SYMB_REGEX',\n",
       " 'Counter',\n",
       " 'DATE_REGEX',\n",
       " 'EMAIL_REGEX',\n",
       " 'EMOJI_REGEX',\n",
       " 'HASTAG_REGEX',\n",
       " 'MASTERCard_REGEX',\n",
       " 'MD5_SHA_REGEX',\n",
       " 'MOST_COMMON_PUNCT_REGEX',\n",
       " 'NUMBERS_REGEX',\n",
       " 'PHONE_REGEX',\n",
       " 'PoBOX_REGEX',\n",
       " 'SPECIAL_CHARACTERS_REGEX',\n",
       " 'STOPWORDS',\n",
       " 'STOPWORDS_de',\n",
       " 'STOPWORDS_en',\n",
       " 'STOPWORDS_es',\n",
       " 'STOPWORDS_fr',\n",
       " 'STOPWORDS_ru',\n",
       " 'STOPWORDS_yo',\n",
       " 'STREET_ADDRESS_REGEX',\n",
       " 'TextFrame',\n",
       " 'URL_PATTERN',\n",
       " 'USER_HANDLES_REGEX',\n",
       " 'VISACard_REGEX',\n",
       " '__builtins__',\n",
       " '__cached__',\n",
       " '__doc__',\n",
       " '__file__',\n",
       " '__generate_text',\n",
       " '__loader__',\n",
       " '__name__',\n",
       " '__numbers_dict',\n",
       " '__package__',\n",
       " '__spec__',\n",
       " '_lex_richness_herdan',\n",
       " '_lex_richness_maas_ttr',\n",
       " 'clean_text',\n",
       " 'defaultdict',\n",
       " 'digit2words',\n",
       " 'extract_btc_address',\n",
       " 'extract_currencies',\n",
       " 'extract_currency_symbols',\n",
       " 'extract_dates',\n",
       " 'extract_emails',\n",
       " 'extract_emojis',\n",
       " 'extract_hashtags',\n",
       " 'extract_html_tags',\n",
       " 'extract_mastercard_addr',\n",
       " 'extract_md5sha',\n",
       " 'extract_numbers',\n",
       " 'extract_pattern',\n",
       " 'extract_phone_numbers',\n",
       " 'extract_postoffice_box',\n",
       " 'extract_shortwords',\n",
       " 'extract_special_characters',\n",
       " 'extract_stopwords',\n",
       " 'extract_street_address',\n",
       " 'extract_terms_in_bracket',\n",
       " 'extract_urls',\n",
       " 'extract_userhandles',\n",
       " 'extract_visacard_addr',\n",
       " 'fix_contractions',\n",
       " 'generate_sentence',\n",
       " 'hamming_distance',\n",
       " 'inverse_df',\n",
       " 'lexical_richness',\n",
       " 'markov_chain',\n",
       " 'math',\n",
       " 'nlargest',\n",
       " 'normalize',\n",
       " 'num2words',\n",
       " 'random',\n",
       " 're',\n",
       " 'read_txt',\n",
       " 'remove_accents',\n",
       " 'remove_bad_quotes',\n",
       " 'remove_btc_address',\n",
       " 'remove_currencies',\n",
       " 'remove_currency_symbols',\n",
       " 'remove_custom_pattern',\n",
       " 'remove_custom_words',\n",
       " 'remove_dates',\n",
       " 'remove_emails',\n",
       " 'remove_emojis',\n",
       " 'remove_hashtags',\n",
       " 'remove_html_tags',\n",
       " 'remove_mastercard_addr',\n",
       " 'remove_md5sha',\n",
       " 'remove_multiple_spaces',\n",
       " 'remove_non_ascii',\n",
       " 'remove_numbers',\n",
       " 'remove_phone_numbers',\n",
       " 'remove_postoffice_box',\n",
       " 'remove_puncts',\n",
       " 'remove_punctuations',\n",
       " 'remove_shortwords',\n",
       " 'remove_special_characters',\n",
       " 'remove_stopwords',\n",
       " 'remove_street_address',\n",
       " 'remove_terms_in_bracket',\n",
       " 'remove_urls',\n",
       " 'remove_userhandles',\n",
       " 'remove_visacard_addr',\n",
       " 'replace_bad_quotes',\n",
       " 'replace_currencies',\n",
       " 'replace_currency_symbols',\n",
       " 'replace_dates',\n",
       " 'replace_emails',\n",
       " 'replace_emojis',\n",
       " 'replace_numbers',\n",
       " 'replace_phone_numbers',\n",
       " 'replace_special_characters',\n",
       " 'replace_term',\n",
       " 'replace_urls',\n",
       " 'string',\n",
       " 'term_freq',\n",
       " 'to_txt',\n",
       " 'unicodedata',\n",
       " 'word_freq',\n",
       " 'word_length_freq']"
      ]
     },
     "execution_count": 19,
     "metadata": {},
     "output_type": "execute_result"
    }
   ],
   "source": [
    "# using nfx in neattext.functions library\n",
    "dir(nfx)"
   ]
  },
  {
   "cell_type": "code",
   "execution_count": 20,
   "id": "021243f7",
   "metadata": {},
   "outputs": [],
   "source": [
    "## remove Stopwords\n",
    "## Stopwords are the most common words in any natural language.\n",
    "## Generally, the most common words used in a text are “the”, “is”, “in”, “for”,\n",
    "##“where”, “when”, “to”, “at” etc.\n",
    "df['Clean_Text']=df['Text'].apply(nfx.remove_stopwords)\n"
   ]
  },
  {
   "cell_type": "code",
   "execution_count": 21,
   "id": "d51e5f23",
   "metadata": {},
   "outputs": [],
   "source": [
    "## remove userhandles\n",
    "df['Clean_Text']=df['Clean_Text'].apply(nfx.remove_userhandles)"
   ]
  },
  {
   "cell_type": "code",
   "execution_count": 22,
   "id": "650f0c02",
   "metadata": {},
   "outputs": [],
   "source": [
    "## remove punctuations\n",
    "df['Clean_Text']=df['Clean_Text'].apply(nfx.remove_punctuations)"
   ]
  },
  {
   "cell_type": "code",
   "execution_count": 23,
   "id": "77944378",
   "metadata": {},
   "outputs": [
    {
     "data": {
      "text/html": [
       "<div>\n",
       "<style scoped>\n",
       "    .dataframe tbody tr th:only-of-type {\n",
       "        vertical-align: middle;\n",
       "    }\n",
       "\n",
       "    .dataframe tbody tr th {\n",
       "        vertical-align: top;\n",
       "    }\n",
       "\n",
       "    .dataframe thead th {\n",
       "        text-align: right;\n",
       "    }\n",
       "</style>\n",
       "<table border=\"1\" class=\"dataframe\">\n",
       "  <thead>\n",
       "    <tr style=\"text-align: right;\">\n",
       "      <th></th>\n",
       "      <th>Emotion</th>\n",
       "      <th>Text</th>\n",
       "      <th>Sentiment</th>\n",
       "      <th>Clean_Text</th>\n",
       "    </tr>\n",
       "  </thead>\n",
       "  <tbody>\n",
       "    <tr>\n",
       "      <th>0</th>\n",
       "      <td>neutral</td>\n",
       "      <td>Why ?</td>\n",
       "      <td>Neutral</td>\n",
       "      <td></td>\n",
       "    </tr>\n",
       "    <tr>\n",
       "      <th>1</th>\n",
       "      <td>joy</td>\n",
       "      <td>Sage Act upgrade on my to do list for tommorow.</td>\n",
       "      <td>Neutral</td>\n",
       "      <td>Sage Act upgrade list tommorow</td>\n",
       "    </tr>\n",
       "    <tr>\n",
       "      <th>2</th>\n",
       "      <td>sadness</td>\n",
       "      <td>ON THE WAY TO MY HOMEGIRL BABY FUNERAL!!! MAN ...</td>\n",
       "      <td>Negative</td>\n",
       "      <td>WAY HOMEGIRL BABY FUNERAL MAN HATE FUNERALS SH...</td>\n",
       "    </tr>\n",
       "    <tr>\n",
       "      <th>3</th>\n",
       "      <td>joy</td>\n",
       "      <td>Such an eye ! The true hazel eye-and so brill...</td>\n",
       "      <td>Positive</td>\n",
       "      <td>eye  true hazel eyeand brilliant  Regular feat...</td>\n",
       "    </tr>\n",
       "    <tr>\n",
       "      <th>4</th>\n",
       "      <td>joy</td>\n",
       "      <td>@Iluvmiasantos ugh babe.. hugggzzz for u .!  b...</td>\n",
       "      <td>Neutral</td>\n",
       "      <td>ugh babe hugggzzz u  babe naamazed nga ako e...</td>\n",
       "    </tr>\n",
       "  </tbody>\n",
       "</table>\n",
       "</div>"
      ],
      "text/plain": [
       "   Emotion                                               Text Sentiment  \\\n",
       "0  neutral                                             Why ?    Neutral   \n",
       "1      joy    Sage Act upgrade on my to do list for tommorow.   Neutral   \n",
       "2  sadness  ON THE WAY TO MY HOMEGIRL BABY FUNERAL!!! MAN ...  Negative   \n",
       "3      joy   Such an eye ! The true hazel eye-and so brill...  Positive   \n",
       "4      joy  @Iluvmiasantos ugh babe.. hugggzzz for u .!  b...   Neutral   \n",
       "\n",
       "                                          Clean_Text  \n",
       "0                                                     \n",
       "1                     Sage Act upgrade list tommorow  \n",
       "2  WAY HOMEGIRL BABY FUNERAL MAN HATE FUNERALS SH...  \n",
       "3  eye  true hazel eyeand brilliant  Regular feat...  \n",
       "4    ugh babe hugggzzz u  babe naamazed nga ako e...  "
      ]
     },
     "execution_count": 23,
     "metadata": {},
     "output_type": "execute_result"
    }
   ],
   "source": [
    "df.head()"
   ]
  },
  {
   "cell_type": "markdown",
   "id": "41f6107e",
   "metadata": {},
   "source": [
    "## keyword Extraction\n",
    "+ extract most common words per Class of emotion"
   ]
  },
  {
   "cell_type": "code",
   "execution_count": 24,
   "id": "d3784676",
   "metadata": {},
   "outputs": [],
   "source": [
    "from collections import Counter"
   ]
  },
  {
   "cell_type": "code",
   "execution_count": 25,
   "id": "945b4e73",
   "metadata": {},
   "outputs": [],
   "source": [
    "## function that return a dictionnary of the most common word in a text max 25\n",
    "def extract_keywords(text,num=25):\n",
    "    tokens=[tok for tok in text.split()]\n",
    "    most_common_tokens=Counter(tokens).most_common(num)\n",
    "    ##Counter has a most_common() method that returns a list of tuples \n",
    "    ## of (element, count) sorted by counts lkbir l sghir  .\n",
    "    return dict(most_common_tokens)"
   ]
  },
  {
   "cell_type": "code",
   "execution_count": 26,
   "id": "b5349114",
   "metadata": {},
   "outputs": [
    {
     "name": "stdout",
     "output_type": "stream",
     "text": [
      "{'hi': 2, 'you': 2, 'how': 1, 'are': 1}\n"
     ]
    }
   ],
   "source": [
    "##test the function\n",
    "print(extract_keywords(\"hi hi how are you you\"))"
   ]
  },
  {
   "cell_type": "code",
   "execution_count": 27,
   "id": "3a0a94f9",
   "metadata": {},
   "outputs": [],
   "source": [
    "## list of emotions\n",
    "emotion_list=df['Emotion'].unique().tolist()"
   ]
  },
  {
   "cell_type": "code",
   "execution_count": 28,
   "id": "e967f097",
   "metadata": {},
   "outputs": [],
   "source": [
    "## return a list of lines that haves 'Joy' in the column \"Emotion\" \n",
    "joy_list=df[df['Emotion']=='joy']['Clean_Text'].tolist()"
   ]
  },
  {
   "cell_type": "code",
   "execution_count": 29,
   "id": "80d7460c",
   "metadata": {},
   "outputs": [],
   "source": [
    "## Transform a list to a text(String)\n",
    "joy_docx=' '.join(joy_list)"
   ]
  },
  {
   "cell_type": "code",
   "execution_count": 30,
   "id": "74926948",
   "metadata": {},
   "outputs": [],
   "source": [
    "## Extract Keywords the most commons that represent joy\n",
    "keyword_joy=extract_keywords(joy_docx)\n"
   ]
  },
  {
   "cell_type": "code",
   "execution_count": 31,
   "id": "2136c51a",
   "metadata": {},
   "outputs": [
    {
     "data": {
      "text/plain": [
       "{'day': 729,\n",
       " 'amp': 678,\n",
       " 'time': 602,\n",
       " 'Im': 555,\n",
       " 'work': 509,\n",
       " 'like': 476,\n",
       " 'today': 471,\n",
       " 'tomorrow': 467,\n",
       " 'Christmas': 453,\n",
       " 'love': 393,\n",
       " 'happy': 368,\n",
       " 'good': 345,\n",
       " 'night': 331,\n",
       " 'got': 328,\n",
       " ':)': 311,\n",
       " 'going': 304,\n",
       " 'home': 302,\n",
       " 'school': 297,\n",
       " 'morning': 287,\n",
       " '2': 262,\n",
       " 'joy': 257,\n",
       " 'life': 251,\n",
       " 'hours': 251,\n",
       " 'week': 231,\n",
       " 'feel': 227}"
      ]
     },
     "execution_count": 31,
     "metadata": {},
     "output_type": "execute_result"
    }
   ],
   "source": [
    "keyword_joy\n",
    "#get dict with count of any word in text in joy emotion"
   ]
  },
  {
   "cell_type": "code",
   "execution_count": 32,
   "id": "7c589fb7",
   "metadata": {},
   "outputs": [
    {
     "data": {
      "image/png": "[encoded data removed]",
      "text/plain": [
       "<Figure size 2160x720 with 1 Axes>"
      ]
     },
     "metadata": {
      "needs_background": "light"
     },
     "output_type": "display_data"
    }
   ],
   "source": [
    "#function to plot most_common_words()\n",
    "def plot_most_common_words(mydict,emotion_name):\n",
    "    df_01=pd.DataFrame(mydict.items(),columns=[\"token\",\"count\"])\n",
    "    plt.figure(figsize=(30,10))\n",
    "    plt.title(\"Plot of {} Most common Keywords\".format(emotion_name))\n",
    "    sns.barplot(x='token',y='count',data=df_01)\n",
    "    plt.xticks(rotation=45)\n",
    "    plt.show()\n",
    "\n",
    "plot_most_common_words(keyword_joy,'Joy')  \n",
    "    \n",
    "    "
   ]
  },
  {
   "cell_type": "code",
   "execution_count": 33,
   "id": "fe5aeb9c",
   "metadata": {},
   "outputs": [],
   "source": [
    "## for surprise emotion \n",
    "surprise_list=df[df['Emotion']=='surprise']['Clean_Text'].tolist()\n",
    "## surprise_doc \n",
    "surprise_docx=' '.join(surprise_list)\n",
    "keyword_surprise=extract_keywords(surprise_docx)"
   ]
  },
  {
   "cell_type": "code",
   "execution_count": 34,
   "id": "b2053293",
   "metadata": {},
   "outputs": [
    {
     "data": {
      "image/png": "[encoded data removed]",
      "text/plain": [
       "<Figure size 2160x720 with 1 Axes>"
      ]
     },
     "metadata": {
      "needs_background": "light"
     },
     "output_type": "display_data"
    }
   ],
   "source": [
    "plot_most_common_words(keyword_surprise,'Surprise') "
   ]
  },
  {
   "cell_type": "markdown",
   "id": "3ebd05c8",
   "metadata": {},
   "source": [
    "## machine learning \n",
    "+ Naive Bayes\n",
    "+ LogisticRegression"
   ]
  },
  {
   "cell_type": "code",
   "execution_count": 35,
   "id": "83be538e",
   "metadata": {},
   "outputs": [],
   "source": [
    "#load ML packages\n",
    "from sklearn.naive_bayes import MultinomialNB"
   ]
  },
  {
   "cell_type": "code",
   "execution_count": 36,
   "id": "26e6600f",
   "metadata": {},
   "outputs": [],
   "source": [
    "# Vectorizer\n",
    "from sklearn.feature_extraction.text import CountVectorizer"
   ]
  },
  {
   "cell_type": "code",
   "execution_count": 37,
   "id": "c55db5aa",
   "metadata": {},
   "outputs": [],
   "source": [
    "##split our DataSet\n",
    "from sklearn.model_selection import train_test_split"
   ]
  },
  {
   "cell_type": "markdown",
   "id": "fcb8c23a",
   "metadata": {},
   "source": [
    "## build Features From our Text"
   ]
  },
  {
   "cell_type": "code",
   "execution_count": 38,
   "id": "865d3d3d",
   "metadata": {},
   "outputs": [],
   "source": [
    "Xfeatures=df['Clean_Text']\n",
    "ylabels=df['Emotion']"
   ]
  },
  {
   "cell_type": "code",
   "execution_count": 39,
   "id": "74a78c79",
   "metadata": {},
   "outputs": [
    {
     "data": {
      "text/plain": [
       "0                                                         \n",
       "1                           Sage Act upgrade list tommorow\n",
       "2        WAY HOMEGIRL BABY FUNERAL MAN HATE FUNERALS SH...\n",
       "3        eye  true hazel eyeand brilliant  Regular feat...\n",
       "4          ugh babe hugggzzz u  babe naamazed nga ako e...\n",
       "                               ...                        \n",
       "34787           gift Hope like it hand wear  Itll warm Lol\n",
       "34788           world didnt meso world DEFINITELY cnt away\n",
       "34789                                    man robbed today \n",
       "34790                            Youu JEALOUSY #Losing YOU\n",
       "34791                                think baby dream time\n",
       "Name: Clean_Text, Length: 34792, dtype: object"
      ]
     },
     "execution_count": 39,
     "metadata": {},
     "output_type": "execute_result"
    }
   ],
   "source": [
    "Xfeatures\n"
   ]
  },
  {
   "cell_type": "code",
   "execution_count": 40,
   "id": "37f77a22",
   "metadata": {},
   "outputs": [
    {
     "name": "stdout",
     "output_type": "stream",
     "text": [
      "(34792, 34885)\n"
     ]
    }
   ],
   "source": [
    "# vectorrizer\n",
    "cv = CountVectorizer()\n",
    "X=cv.fit_transform(Xfeatures)\n",
    "print(X.shape)\n",
    "\n",
    "\n",
    "\n",
    "\n"
   ]
  },
  {
   "cell_type": "code",
   "execution_count": 41,
   "id": "2d04a6b8",
   "metadata": {},
   "outputs": [
    {
     "data": {
      "text/plain": [
       "array(['00', '000', '000ème', ..., 'ღƪ', 'ℕoíʀ', 'ㄒʜℰℳℰ'], dtype=object)"
      ]
     },
     "execution_count": 41,
     "metadata": {},
     "output_type": "execute_result"
    }
   ],
   "source": [
    "#get Features By name\n",
    "cv.get_feature_names_out()\n",
    "\n"
   ]
  },
  {
   "cell_type": "code",
   "execution_count": 42,
   "id": "9038c0e0",
   "metadata": {},
   "outputs": [],
   "source": [
    "#split Dataset\n",
    "X_train,X_test,y_train,y_test=train_test_split(X,ylabels,test_size=0.3,random_state=42)\n"
   ]
  },
  {
   "cell_type": "markdown",
   "id": "740632c6",
   "metadata": {},
   "source": [
    "## Build Our Model"
   ]
  },
  {
   "cell_type": "code",
   "execution_count": 43,
   "id": "4fe9d718",
   "metadata": {},
   "outputs": [
    {
     "data": {
      "text/plain": [
       "MultinomialNB()"
      ]
     },
     "execution_count": 43,
     "metadata": {},
     "output_type": "execute_result"
    }
   ],
   "source": [
    "nv_model=MultinomialNB()\n",
    "nv_model.fit(X_train,y_train)\n"
   ]
  },
  {
   "cell_type": "code",
   "execution_count": 44,
   "id": "38bb9aec",
   "metadata": {},
   "outputs": [
    {
     "data": {
      "text/plain": [
       "0.5643801494539183"
      ]
     },
     "execution_count": 44,
     "metadata": {},
     "output_type": "execute_result"
    }
   ],
   "source": [
    "# Accurasy\n",
    "nv_model.score(X_test,y_test)"
   ]
  },
  {
   "cell_type": "code",
   "execution_count": 45,
   "id": "280db3f7",
   "metadata": {},
   "outputs": [],
   "source": [
    "## Predictions\n",
    "Y_pred_for_nv=nv_model.predict(X_test)"
   ]
  },
  {
   "cell_type": "code",
   "execution_count": 46,
   "id": "ea4d1c09",
   "metadata": {},
   "outputs": [
    {
     "data": {
      "text/plain": [
       "array(['fear', 'sadness', 'sadness', ..., 'sadness', 'anger', 'sadness'],\n",
       "      dtype='<U8')"
      ]
     },
     "execution_count": 46,
     "metadata": {},
     "output_type": "execute_result"
    }
   ],
   "source": [
    "Y_pred_for_nv"
   ]
  },
  {
   "cell_type": "markdown",
   "id": "a34a4a08",
   "metadata": {},
   "source": [
    "## make a single predection\n",
    "+ Vectorized our Text\n",
    "+ Applied our Model"
   ]
  },
  {
   "cell_type": "code",
   "execution_count": 47,
   "id": "5c2c6551",
   "metadata": {},
   "outputs": [],
   "source": [
    "vect = cv.transform([\"hi hate love\"]).toarray()"
   ]
  },
  {
   "cell_type": "code",
   "execution_count": 48,
   "id": "9f641853",
   "metadata": {},
   "outputs": [
    {
     "data": {
      "text/plain": [
       "array(['joy'], dtype='<U8')"
      ]
     },
     "execution_count": 48,
     "metadata": {},
     "output_type": "execute_result"
    }
   ],
   "source": [
    "## make prediction\n",
    "nv_model.predict(vect)"
   ]
  },
  {
   "cell_type": "code",
   "execution_count": 49,
   "id": "1334fedd",
   "metadata": {},
   "outputs": [
    {
     "data": {
      "text/plain": [
       "array(['anger', 'disgust', 'fear', 'joy', 'neutral', 'sadness', 'shame',\n",
       "       'surprise'], dtype='<U8')"
      ]
     },
     "execution_count": 49,
     "metadata": {},
     "output_type": "execute_result"
    }
   ],
   "source": [
    "## get all class for our model\n",
    "nv_model.classes_"
   ]
  },
  {
   "cell_type": "code",
   "execution_count": 50,
   "id": "eb55d774",
   "metadata": {},
   "outputs": [
    {
     "data": {
      "text/plain": [
       "array([[3.43672690e-02, 1.19708275e-03, 1.42226270e-01, 5.89869147e-01,\n",
       "        2.89037427e-03, 1.73580643e-01, 1.52755371e-06, 5.58676866e-02]])"
      ]
     },
     "execution_count": 50,
     "metadata": {},
     "output_type": "execute_result"
    }
   ],
   "source": [
    "## check for the Prediction Probabiity(percentage)/confidence Score\n",
    "##each case represent the pourcentage of a feeling \n",
    "nv_model.predict_proba(vect)"
   ]
  },
  {
   "cell_type": "code",
   "execution_count": 51,
   "id": "d37b1782",
   "metadata": {},
   "outputs": [
    {
     "data": {
      "text/plain": [
       "0.5898691465757856"
      ]
     },
     "execution_count": 51,
     "metadata": {},
     "output_type": "execute_result"
    }
   ],
   "source": [
    "## max value that represent the felling\n",
    "np.max(nv_model.predict_proba(vect))"
   ]
  },
  {
   "cell_type": "code",
   "execution_count": 52,
   "id": "b71eacf8",
   "metadata": {},
   "outputs": [],
   "source": [
    "## fonction that return a dictionnary with the percentage of chaque mode\n",
    "def predict_emotion(sample_text,model):\n",
    "    myvect=cv.transform(sample_text).toarray()\n",
    "    prediction=model.predict(myvect)\n",
    "  \n",
    "    pred_proba=model.predict_proba(myvect)\n",
    "    \n",
    "    pred_percentage_for_all=dict(zip(model.classes_,pred_proba[0]))\n",
    "    print(\"Prediction:{} , Prediction Score : {}\".format(prediction[0],np.max(pred_proba)))\n",
    "    return pred_percentage_for_all"
   ]
  },
  {
   "cell_type": "code",
   "execution_count": 58,
   "id": "c4a98f5b",
   "metadata": {},
   "outputs": [
    {
     "name": "stdout",
     "output_type": "stream",
     "text": [
      "Prediction:anger , Prediction Score : 0.29758092140397413\n"
     ]
    },
    {
     "data": {
      "text/plain": [
       "{'anger': 0.29758092140397413,\n",
       " 'disgust': 0.026796543056461918,\n",
       " 'fear': 0.1798958196815806,\n",
       " 'joy': 0.1739089367866644,\n",
       " 'neutral': 0.002410648611618673,\n",
       " 'sadness': 0.2684010908963036,\n",
       " 'shame': 0.00036197595811544137,\n",
       " 'surprise': 0.05064406360528087}"
      ]
     },
     "execution_count": 58,
     "metadata": {},
     "output_type": "execute_result"
    }
   ],
   "source": [
    "predict_emotion([\"i hate\"],nv_model)"
   ]
  },
  {
   "cell_type": "code",
   "execution_count": null,
   "id": "f6fe1c9f",
   "metadata": {},
   "outputs": [],
   "source": []
  }
 ],
 "metadata": {
  "kernelspec": {
   "display_name": "Python 3 (ipykernel)",
   "language": "python",
   "name": "python3"
  },
  "language_info": {
   "codemirror_mode": {
    "name": "ipython",
    "version": 3
   },
   "file_extension": ".py",
   "mimetype": "text/x-python",
   "name": "python",
   "nbconvert_exporter": "python",
   "pygments_lexer": "ipython3",
   "version": "3.9.12"
  }
 },
 "nbformat": 4,
 "nbformat_minor": 5
}
